{
 "cells": [
  {
   "cell_type": "markdown",
   "id": "dbb54111",
   "metadata": {},
   "source": [
    "#01 Importing libraries"
   ]
  },
  {
   "cell_type": "code",
   "execution_count": 5,
   "id": "1a0dfe0d",
   "metadata": {},
   "outputs": [],
   "source": [
    "# Import libraries\n",
    "import pandas as pd\n",
    "import numpy as np\n",
    "import os"
   ]
  },
  {
   "cell_type": "markdown",
   "id": "af0f087c",
   "metadata": {},
   "source": [
    "#02 Data types"
   ]
  },
  {
   "cell_type": "code",
   "execution_count": 46,
   "id": "fcf20a7c",
   "metadata": {},
   "outputs": [],
   "source": [
    "# Working with Python data types\n",
    "# Code 3 differnt ways to reach 100 by adding\n",
    "# or subtracting numeric variable\n",
    "x = 10\n",
    "y = 90"
   ]
  },
  {
   "cell_type": "code",
   "execution_count": 47,
   "id": "ef80f213",
   "metadata": {},
   "outputs": [
    {
     "data": {
      "text/plain": [
       "(10, 90)"
      ]
     },
     "execution_count": 47,
     "metadata": {},
     "output_type": "execute_result"
    }
   ],
   "source": [
    "x, y"
   ]
  },
  {
   "cell_type": "code",
   "execution_count": 49,
   "id": "3c957c07",
   "metadata": {},
   "outputs": [
    {
     "data": {
      "text/plain": [
       "100"
      ]
     },
     "execution_count": 49,
     "metadata": {},
     "output_type": "execute_result"
    }
   ],
   "source": [
    "x+y"
   ]
  },
  {
   "cell_type": "code",
   "execution_count": 53,
   "id": "34fec7fa",
   "metadata": {},
   "outputs": [],
   "source": [
    "y=110"
   ]
  },
  {
   "cell_type": "code",
   "execution_count": 54,
   "id": "d6375464",
   "metadata": {},
   "outputs": [
    {
     "data": {
      "text/plain": [
       "110"
      ]
     },
     "execution_count": 54,
     "metadata": {},
     "output_type": "execute_result"
    }
   ],
   "source": [
    "y"
   ]
  },
  {
   "cell_type": "code",
   "execution_count": 55,
   "id": "40f5b28d",
   "metadata": {},
   "outputs": [
    {
     "data": {
      "text/plain": [
       "100"
      ]
     },
     "execution_count": 55,
     "metadata": {},
     "output_type": "execute_result"
    }
   ],
   "source": [
    "y-x"
   ]
  },
  {
   "cell_type": "code",
   "execution_count": 58,
   "id": "f455eca8",
   "metadata": {},
   "outputs": [],
   "source": [
    "x=50\n",
    "y=50"
   ]
  },
  {
   "cell_type": "code",
   "execution_count": 59,
   "id": "755fde57",
   "metadata": {},
   "outputs": [
    {
     "data": {
      "text/plain": [
       "(50, 50)"
      ]
     },
     "execution_count": 59,
     "metadata": {},
     "output_type": "execute_result"
    }
   ],
   "source": [
    "x,y"
   ]
  },
  {
   "cell_type": "code",
   "execution_count": 60,
   "id": "3d111e67",
   "metadata": {},
   "outputs": [
    {
     "data": {
      "text/plain": [
       "100"
      ]
     },
     "execution_count": 60,
     "metadata": {},
     "output_type": "execute_result"
    }
   ],
   "source": [
    "x+y"
   ]
  },
  {
   "cell_type": "code",
   "execution_count": 61,
   "id": "4ac388e8",
   "metadata": {},
   "outputs": [],
   "source": [
    "#Code 2 floating-point variable and divide \n",
    "#by each other"
   ]
  },
  {
   "cell_type": "code",
   "execution_count": 65,
   "id": "76b99aa8",
   "metadata": {},
   "outputs": [],
   "source": [
    "y=5.5"
   ]
  },
  {
   "cell_type": "code",
   "execution_count": 66,
   "id": "f337a727",
   "metadata": {},
   "outputs": [
    {
     "data": {
      "text/plain": [
       "float"
      ]
     },
     "execution_count": 66,
     "metadata": {},
     "output_type": "execute_result"
    }
   ],
   "source": [
    "type(y)"
   ]
  },
  {
   "cell_type": "code",
   "execution_count": 67,
   "id": "68f9fa91",
   "metadata": {},
   "outputs": [],
   "source": [
    "x=55.5"
   ]
  },
  {
   "cell_type": "code",
   "execution_count": 68,
   "id": "48e8ff0f",
   "metadata": {},
   "outputs": [
    {
     "data": {
      "text/plain": [
       "float"
      ]
     },
     "execution_count": 68,
     "metadata": {},
     "output_type": "execute_result"
    }
   ],
   "source": [
    "type(x)"
   ]
  },
  {
   "cell_type": "code",
   "execution_count": 71,
   "id": "8b07f0b8",
   "metadata": {},
   "outputs": [
    {
     "data": {
      "text/plain": [
       "10.090909090909092"
      ]
     },
     "execution_count": 71,
     "metadata": {},
     "output_type": "execute_result"
    }
   ],
   "source": [
    "x/y"
   ]
  },
  {
   "cell_type": "code",
   "execution_count": 72,
   "id": "c057744a",
   "metadata": {},
   "outputs": [],
   "source": [
    "#Construct a short word made of seperate strings\n",
    "#you'll need to concatenate some strings!"
   ]
  },
  {
   "cell_type": "code",
   "execution_count": 73,
   "id": "f9c5c001",
   "metadata": {},
   "outputs": [],
   "source": [
    "a='Python '\n",
    "b= 'is '\n",
    "c= 'fun'"
   ]
  },
  {
   "cell_type": "code",
   "execution_count": 74,
   "id": "b8948e47",
   "metadata": {},
   "outputs": [
    {
     "data": {
      "text/plain": [
       "'Python is fun'"
      ]
     },
     "execution_count": 74,
     "metadata": {},
     "output_type": "execute_result"
    }
   ],
   "source": [
    "a+b+c"
   ]
  },
  {
   "cell_type": "code",
   "execution_count": 75,
   "id": "0980c715",
   "metadata": {},
   "outputs": [],
   "source": [
    "#Construct 2 short sentences made of seperate\n",
    "#strings"
   ]
  },
  {
   "cell_type": "code",
   "execution_count": 94,
   "id": "7a94ae38",
   "metadata": {},
   "outputs": [],
   "source": [
    "a='Learning Python can be Fun!,'"
   ]
  },
  {
   "cell_type": "code",
   "execution_count": 95,
   "id": "c238ef58",
   "metadata": {},
   "outputs": [
    {
     "name": "stdout",
     "output_type": "stream",
     "text": [
      "Learning Python can be Fun!,\n"
     ]
    }
   ],
   "source": [
    "print(a)"
   ]
  },
  {
   "cell_type": "code",
   "execution_count": 81,
   "id": "5d20e04c",
   "metadata": {},
   "outputs": [
    {
     "data": {
      "text/plain": [
       "str"
      ]
     },
     "execution_count": 81,
     "metadata": {},
     "output_type": "execute_result"
    }
   ],
   "source": [
    "type(a)"
   ]
  },
  {
   "cell_type": "code",
   "execution_count": 100,
   "id": "5c04afde",
   "metadata": {},
   "outputs": [],
   "source": [
    "b='there are different data types used in Python.'"
   ]
  },
  {
   "cell_type": "code",
   "execution_count": 101,
   "id": "f03c1051",
   "metadata": {},
   "outputs": [
    {
     "name": "stdout",
     "output_type": "stream",
     "text": [
      "there are different data types used in Python.\n"
     ]
    }
   ],
   "source": [
    "print(b)"
   ]
  },
  {
   "cell_type": "code",
   "execution_count": 102,
   "id": "302f43cb",
   "metadata": {},
   "outputs": [
    {
     "data": {
      "text/plain": [
       "str"
      ]
     },
     "execution_count": 102,
     "metadata": {},
     "output_type": "execute_result"
    }
   ],
   "source": [
    "type(b)"
   ]
  },
  {
   "cell_type": "code",
   "execution_count": 103,
   "id": "a10379a1",
   "metadata": {},
   "outputs": [
    {
     "data": {
      "text/plain": [
       "'Learning Python can be Fun!,there are different data types used in Python.'"
      ]
     },
     "execution_count": 103,
     "metadata": {},
     "output_type": "execute_result"
    }
   ],
   "source": [
    "a + b"
   ]
  },
  {
   "cell_type": "code",
   "execution_count": 104,
   "id": "37e0b9b6",
   "metadata": {},
   "outputs": [],
   "source": [
    "#Bonus task,include a command that makes a \n",
    "#string appear 100 times"
   ]
  },
  {
   "cell_type": "code",
   "execution_count": 107,
   "id": "1b0712b4",
   "metadata": {},
   "outputs": [],
   "source": [
    "x='Show 100 times, '"
   ]
  },
  {
   "cell_type": "code",
   "execution_count": 108,
   "id": "d04bdb32",
   "metadata": {},
   "outputs": [
    {
     "data": {
      "text/plain": [
       "'Show 100 times, Show 100 times, Show 100 times, Show 100 times, Show 100 times, Show 100 times, Show 100 times, Show 100 times, Show 100 times, Show 100 times, Show 100 times, Show 100 times, Show 100 times, Show 100 times, Show 100 times, Show 100 times, Show 100 times, Show 100 times, Show 100 times, Show 100 times, Show 100 times, Show 100 times, Show 100 times, Show 100 times, Show 100 times, Show 100 times, Show 100 times, Show 100 times, Show 100 times, Show 100 times, Show 100 times, Show 100 times, Show 100 times, Show 100 times, Show 100 times, Show 100 times, Show 100 times, Show 100 times, Show 100 times, Show 100 times, Show 100 times, Show 100 times, Show 100 times, Show 100 times, Show 100 times, Show 100 times, Show 100 times, Show 100 times, Show 100 times, Show 100 times, Show 100 times, Show 100 times, Show 100 times, Show 100 times, Show 100 times, Show 100 times, Show 100 times, Show 100 times, Show 100 times, Show 100 times, Show 100 times, Show 100 times, Show 100 times, Show 100 times, Show 100 times, Show 100 times, Show 100 times, Show 100 times, Show 100 times, Show 100 times, Show 100 times, Show 100 times, Show 100 times, Show 100 times, Show 100 times, Show 100 times, Show 100 times, Show 100 times, Show 100 times, Show 100 times, Show 100 times, Show 100 times, Show 100 times, Show 100 times, Show 100 times, Show 100 times, Show 100 times, Show 100 times, Show 100 times, Show 100 times, Show 100 times, Show 100 times, Show 100 times, Show 100 times, Show 100 times, Show 100 times, Show 100 times, Show 100 times, Show 100 times, Show 100 times, '"
      ]
     },
     "execution_count": 108,
     "metadata": {},
     "output_type": "execute_result"
    }
   ],
   "source": [
    "x*100"
   ]
  },
  {
   "cell_type": "code",
   "execution_count": null,
   "id": "2933c1f2",
   "metadata": {},
   "outputs": [],
   "source": []
  }
 ],
 "metadata": {
  "kernelspec": {
   "display_name": "Python 3 (ipykernel)",
   "language": "python",
   "name": "python3"
  },
  "language_info": {
   "codemirror_mode": {
    "name": "ipython",
    "version": 3
   },
   "file_extension": ".py",
   "mimetype": "text/x-python",
   "name": "python",
   "nbconvert_exporter": "python",
   "pygments_lexer": "ipython3",
   "version": "3.9.13"
  }
 },
 "nbformat": 4,
 "nbformat_minor": 5
}
