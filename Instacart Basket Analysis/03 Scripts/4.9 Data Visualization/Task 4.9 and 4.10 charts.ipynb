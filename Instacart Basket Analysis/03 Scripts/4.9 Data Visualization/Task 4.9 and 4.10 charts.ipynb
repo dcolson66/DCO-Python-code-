{
 "cells": [
  {
   "cell_type": "code",
   "execution_count": 1,
   "id": "f468b1cf",
   "metadata": {},
   "outputs": [],
   "source": [
    "# Import Libraries \n",
    "\n",
    "import pandas as pd\n",
    "import numpy as np\n",
    "import os\n",
    "import matplotlib.pyplot as plt\n",
    "import seaborn as sns\n",
    "import scipy"
   ]
  },
  {
   "cell_type": "code",
   "execution_count": 2,
   "id": "79593ba6",
   "metadata": {},
   "outputs": [],
   "source": [
    "# Define Path\n",
    "\n",
    "path = r'C:\\Users\\dolson\\OneDrive - BEACON TECHNOLOGIES\\Desktop\\Instacart Basket Analysis 10.2022'"
   ]
  },
  {
   "cell_type": "code",
   "execution_count": 3,
   "id": "5ead902b",
   "metadata": {},
   "outputs": [],
   "source": [
    "# Import latest version of merged dataset\n",
    "\n",
    "df_final_data = pd.read_pickle(os.path.join(path, '02 Data', 'Prepared Data', 'df_merged_final.pkl'))"
   ]
  },
  {
   "cell_type": "code",
   "execution_count": 4,
   "id": "dbe006fd",
   "metadata": {},
   "outputs": [
    {
     "data": {
      "text/html": [
       "<div>\n",
       "<style scoped>\n",
       "    .dataframe tbody tr th:only-of-type {\n",
       "        vertical-align: middle;\n",
       "    }\n",
       "\n",
       "    .dataframe tbody tr th {\n",
       "        vertical-align: top;\n",
       "    }\n",
       "\n",
       "    .dataframe thead th {\n",
       "        text-align: right;\n",
       "    }\n",
       "</style>\n",
       "<table border=\"1\" class=\"dataframe\">\n",
       "  <thead>\n",
       "    <tr style=\"text-align: right;\">\n",
       "      <th></th>\n",
       "      <th>order_id</th>\n",
       "      <th>user_id</th>\n",
       "      <th>order_number</th>\n",
       "      <th>order_day_of_week</th>\n",
       "      <th>order_hour_of_day</th>\n",
       "      <th>days_since_prior_order</th>\n",
       "      <th>new_customer</th>\n",
       "      <th>product_id</th>\n",
       "      <th>add_to_cart_order</th>\n",
       "      <th>reordered</th>\n",
       "      <th>...</th>\n",
       "      <th>Frequency_flag</th>\n",
       "      <th>first_name</th>\n",
       "      <th>last_name</th>\n",
       "      <th>gender</th>\n",
       "      <th>state</th>\n",
       "      <th>age</th>\n",
       "      <th>date_joined</th>\n",
       "      <th>no_of_dependants</th>\n",
       "      <th>marital_status</th>\n",
       "      <th>income</th>\n",
       "    </tr>\n",
       "  </thead>\n",
       "  <tbody>\n",
       "    <tr>\n",
       "      <th>0</th>\n",
       "      <td>2539329</td>\n",
       "      <td>1</td>\n",
       "      <td>1</td>\n",
       "      <td>2</td>\n",
       "      <td>8</td>\n",
       "      <td>NaN</td>\n",
       "      <td>True</td>\n",
       "      <td>196.0</td>\n",
       "      <td>1</td>\n",
       "      <td>0</td>\n",
       "      <td>...</td>\n",
       "      <td>Non-frequent customer</td>\n",
       "      <td>Linda</td>\n",
       "      <td>Nguyen</td>\n",
       "      <td>Female</td>\n",
       "      <td>Alabama</td>\n",
       "      <td>31</td>\n",
       "      <td>2/17/2019</td>\n",
       "      <td>3</td>\n",
       "      <td>married</td>\n",
       "      <td>40423</td>\n",
       "    </tr>\n",
       "    <tr>\n",
       "      <th>1</th>\n",
       "      <td>2398795</td>\n",
       "      <td>1</td>\n",
       "      <td>2</td>\n",
       "      <td>3</td>\n",
       "      <td>7</td>\n",
       "      <td>15.0</td>\n",
       "      <td>False</td>\n",
       "      <td>196.0</td>\n",
       "      <td>1</td>\n",
       "      <td>1</td>\n",
       "      <td>...</td>\n",
       "      <td>Non-frequent customer</td>\n",
       "      <td>Linda</td>\n",
       "      <td>Nguyen</td>\n",
       "      <td>Female</td>\n",
       "      <td>Alabama</td>\n",
       "      <td>31</td>\n",
       "      <td>2/17/2019</td>\n",
       "      <td>3</td>\n",
       "      <td>married</td>\n",
       "      <td>40423</td>\n",
       "    </tr>\n",
       "    <tr>\n",
       "      <th>2</th>\n",
       "      <td>473747</td>\n",
       "      <td>1</td>\n",
       "      <td>3</td>\n",
       "      <td>3</td>\n",
       "      <td>12</td>\n",
       "      <td>21.0</td>\n",
       "      <td>False</td>\n",
       "      <td>196.0</td>\n",
       "      <td>1</td>\n",
       "      <td>1</td>\n",
       "      <td>...</td>\n",
       "      <td>Non-frequent customer</td>\n",
       "      <td>Linda</td>\n",
       "      <td>Nguyen</td>\n",
       "      <td>Female</td>\n",
       "      <td>Alabama</td>\n",
       "      <td>31</td>\n",
       "      <td>2/17/2019</td>\n",
       "      <td>3</td>\n",
       "      <td>married</td>\n",
       "      <td>40423</td>\n",
       "    </tr>\n",
       "    <tr>\n",
       "      <th>3</th>\n",
       "      <td>2254736</td>\n",
       "      <td>1</td>\n",
       "      <td>4</td>\n",
       "      <td>4</td>\n",
       "      <td>7</td>\n",
       "      <td>29.0</td>\n",
       "      <td>False</td>\n",
       "      <td>196.0</td>\n",
       "      <td>1</td>\n",
       "      <td>1</td>\n",
       "      <td>...</td>\n",
       "      <td>Non-frequent customer</td>\n",
       "      <td>Linda</td>\n",
       "      <td>Nguyen</td>\n",
       "      <td>Female</td>\n",
       "      <td>Alabama</td>\n",
       "      <td>31</td>\n",
       "      <td>2/17/2019</td>\n",
       "      <td>3</td>\n",
       "      <td>married</td>\n",
       "      <td>40423</td>\n",
       "    </tr>\n",
       "    <tr>\n",
       "      <th>4</th>\n",
       "      <td>431534</td>\n",
       "      <td>1</td>\n",
       "      <td>5</td>\n",
       "      <td>4</td>\n",
       "      <td>15</td>\n",
       "      <td>28.0</td>\n",
       "      <td>False</td>\n",
       "      <td>196.0</td>\n",
       "      <td>1</td>\n",
       "      <td>1</td>\n",
       "      <td>...</td>\n",
       "      <td>Non-frequent customer</td>\n",
       "      <td>Linda</td>\n",
       "      <td>Nguyen</td>\n",
       "      <td>Female</td>\n",
       "      <td>Alabama</td>\n",
       "      <td>31</td>\n",
       "      <td>2/17/2019</td>\n",
       "      <td>3</td>\n",
       "      <td>married</td>\n",
       "      <td>40423</td>\n",
       "    </tr>\n",
       "  </tbody>\n",
       "</table>\n",
       "<p>5 rows × 32 columns</p>\n",
       "</div>"
      ],
      "text/plain": [
       "   order_id  user_id  order_number  order_day_of_week  order_hour_of_day  \\\n",
       "0   2539329        1             1                  2                  8   \n",
       "1   2398795        1             2                  3                  7   \n",
       "2    473747        1             3                  3                 12   \n",
       "3   2254736        1             4                  4                  7   \n",
       "4    431534        1             5                  4                 15   \n",
       "\n",
       "   days_since_prior_order  new_customer  product_id  add_to_cart_order  \\\n",
       "0                     NaN          True       196.0                  1   \n",
       "1                    15.0         False       196.0                  1   \n",
       "2                    21.0         False       196.0                  1   \n",
       "3                    29.0         False       196.0                  1   \n",
       "4                    28.0         False       196.0                  1   \n",
       "\n",
       "   reordered  ...         Frequency_flag  first_name  last_name  gender  \\\n",
       "0          0  ...  Non-frequent customer       Linda     Nguyen  Female   \n",
       "1          1  ...  Non-frequent customer       Linda     Nguyen  Female   \n",
       "2          1  ...  Non-frequent customer       Linda     Nguyen  Female   \n",
       "3          1  ...  Non-frequent customer       Linda     Nguyen  Female   \n",
       "4          1  ...  Non-frequent customer       Linda     Nguyen  Female   \n",
       "\n",
       "     state age date_joined  no_of_dependants marital_status  income  \n",
       "0  Alabama  31   2/17/2019                 3        married   40423  \n",
       "1  Alabama  31   2/17/2019                 3        married   40423  \n",
       "2  Alabama  31   2/17/2019                 3        married   40423  \n",
       "3  Alabama  31   2/17/2019                 3        married   40423  \n",
       "4  Alabama  31   2/17/2019                 3        married   40423  \n",
       "\n",
       "[5 rows x 32 columns]"
      ]
     },
     "execution_count": 4,
     "metadata": {},
     "output_type": "execute_result"
    }
   ],
   "source": [
    "df_final_data.head()"
   ]
  },
  {
   "cell_type": "code",
   "execution_count": 5,
   "id": "51708f0b",
   "metadata": {},
   "outputs": [
    {
     "data": {
      "text/plain": [
       "(32404859, 32)"
      ]
     },
     "execution_count": 5,
     "metadata": {},
     "output_type": "execute_result"
    }
   ],
   "source": [
    "df_final_data.shape"
   ]
  },
  {
   "cell_type": "code",
   "execution_count": 7,
   "id": "be9ca1fb",
   "metadata": {
    "scrolled": true
   },
   "outputs": [
    {
     "data": {
      "text/plain": [
       "Index(['order_id', 'user_id', 'order_number', 'order_day_of_week',\n",
       "       'order_hour_of_day', 'days_since_prior_order', 'new_customer',\n",
       "       'product_id', 'add_to_cart_order', 'reordered', 'product_name',\n",
       "       'aisle_id', 'department_id', 'prices', 'price_range_loc',\n",
       "       'busiest_days', 'busiest_period_of_day', 'max_order', 'loyalty_flag',\n",
       "       'mean_price', 'spending_flag', 'median_days_since_previous_order',\n",
       "       'Frequency_flag', 'first_name', 'last_name', 'gender', 'state', 'age',\n",
       "       'date_joined', 'no_of_dependants', 'marital_status', 'income'],\n",
       "      dtype='object')"
      ]
     },
     "execution_count": 7,
     "metadata": {},
     "output_type": "execute_result"
    }
   ],
   "source": [
    "# check columns \n",
    "df_final_data.columns"
   ]
  },
  {
   "cell_type": "markdown",
   "id": "97c0210f",
   "metadata": {},
   "source": [
    "# Create a bar chart, histogram, scatterplot, and line chart using a sample subset for the line chart"
   ]
  },
  {
   "cell_type": "code",
   "execution_count": 8,
   "id": "212da986",
   "metadata": {},
   "outputs": [
    {
     "data": {
      "image/png": "[encoded data removed]",
      "text/plain": [
       "<Figure size 640x480 with 1 Axes>"
      ]
     },
     "metadata": {},
     "output_type": "display_data"
    }
   ],
   "source": [
    "# Create Bar Chart order(s)_day_of_week column\n",
    "\n",
    "bar = df_final_data['order_day_of_week'].value_counts().sort_index().plot.bar(color = ['purple', 'red', 'pink','orange','yellow','green', 'blue'])"
   ]
  },
  {
   "cell_type": "code",
   "execution_count": null,
   "id": "0b83df59",
   "metadata": {},
   "outputs": [],
   "source": [
    "# Create Historgrams & Scatterplots \n",
    "# Use prices column\n",
    "#hist = df_final_data['prices'].plot.hist(bins = 25)"
   ]
  },
  {
   "cell_type": "code",
   "execution_count": null,
   "id": "ab6afcec",
   "metadata": {},
   "outputs": [],
   "source": [
    "# Create a scatter plot\n",
    "#splot = sns.scatterplot(x = 'prices', y = 'prices',data = df_final_data)"
   ]
  },
  {
   "cell_type": "code",
   "execution_count": null,
   "id": "11114335",
   "metadata": {},
   "outputs": [],
   "source": [
    "# Create line chart with \n",
    "#define the sub set of the df for the line chart (plotting the top 1 million)\n",
    "# creating a random sampling\n",
    "#np.random.seed(4)"
   ]
  },
  {
   "cell_type": "code",
   "execution_count": null,
   "id": "79370422",
   "metadata": {},
   "outputs": [],
   "source": [
    "#dev = np.random.rand(len(df_final_data)) <= 0.7"
   ]
  },
  {
   "cell_type": "code",
   "execution_count": null,
   "id": "b069dd8b",
   "metadata": {},
   "outputs": [],
   "source": [
    "#dev"
   ]
  },
  {
   "cell_type": "code",
   "execution_count": null,
   "id": "e48f5554",
   "metadata": {},
   "outputs": [],
   "source": [
    "# split the dataframe(70% of sample in dataframe)\n",
    "#big = df_final_data[dev]"
   ]
  },
  {
   "cell_type": "code",
   "execution_count": null,
   "id": "db6348ff",
   "metadata": {},
   "outputs": [],
   "source": [
    "# split dataframe (30% of sample in the dataframe)\n",
    "#small = df_final_data[~dev]"
   ]
  },
  {
   "cell_type": "code",
   "execution_count": null,
   "id": "10372994",
   "metadata": {},
   "outputs": [],
   "source": [
    "#df_final_data.shape"
   ]
  },
  {
   "cell_type": "code",
   "execution_count": null,
   "id": "945573ba",
   "metadata": {},
   "outputs": [],
   "source": [
    "# Check if row size correct - Yes it is \n",
    "#len(big)+len(small)"
   ]
  },
  {
   "cell_type": "code",
   "execution_count": null,
   "id": "31220d5c",
   "metadata": {},
   "outputs": [],
   "source": [
    "# Create dataframe with only columns needed for line chart\n",
    "#df_small = small[['order_day_of_week','prices']]"
   ]
  },
  {
   "cell_type": "code",
   "execution_count": null,
   "id": "c4f118b2",
   "metadata": {},
   "outputs": [],
   "source": [
    "# Create line chart on 30% of df sample\n",
    "#line = sns.lineplot(data = df_small, x = 'order_day_of_week',y = 'prices')"
   ]
  },
  {
   "cell_type": "code",
   "execution_count": null,
   "id": "b9f4b569",
   "metadata": {},
   "outputs": [],
   "source": [
    "# You need to provide the Instacart senior stakeholders with descriptive findings about sales. \n",
    "# Create a histogram of the “order_hour_of_day” column.\n",
    "\n",
    "#hist_2 = df_final_data['order_hour_of_day'].plot.hist(bins = 24)\n"
   ]
  },
  {
   "cell_type": "code",
   "execution_count": null,
   "id": "9012ddda",
   "metadata": {},
   "outputs": [],
   "source": [
    "# Check accuracy of historgram\n",
    "\n",
    "#df_final_data['order_hour_of_day'].value_counts(dropna=False).sort_index()"
   ]
  },
  {
   "cell_type": "code",
   "execution_count": 12,
   "id": "0719ef81",
   "metadata": {},
   "outputs": [
    {
     "data": {
      "text/plain": [
       "[Text(0, 0, 'Regular customer'),\n",
       " Text(1, 0, 'Loyal customer'),\n",
       " Text(2, 0, 'New customer')]"
      ]
     },
     "execution_count": 12,
     "metadata": {},
     "output_type": "execute_result"
    },
    {
     "data": {
      "image/png": "[encoded data removed]",
      "text/plain": [
       "<Figure size 640x480 with 1 Axes>"
      ]
     },
     "metadata": {},
     "output_type": "display_data"
    }
   ],
   "source": [
    "# The marketing team is curious about the distribution of orders among \n",
    "#customers in terms of loyalty. \n",
    "# Create a bar chart from the “loyalty_flag” column.\n",
    "\n",
    "bar_2 = df_final_data['loyalty_flag'].value_counts().plot.bar(color =  ['green', 'blue', 'yellow'])\n",
    "#rotate xtick lables\n",
    "bar_2.set_xticklabels(bar_2.get_xticklabels(), rotation=0)"
   ]
  },
  {
   "cell_type": "code",
   "execution_count": 13,
   "id": "9a6910d6",
   "metadata": {},
   "outputs": [
    {
     "data": {
      "text/plain": [
       "Regular customer    15876776\n",
       "Loyal customer      10284093\n",
       "New customer         6243990\n",
       "Name: loyalty_flag, dtype: int64"
      ]
     },
     "execution_count": 13,
     "metadata": {},
     "output_type": "execute_result"
    }
   ],
   "source": [
    "# Check counts of loyalty flag\n",
    "df_final_data['loyalty_flag'].value_counts()"
   ]
  },
  {
   "cell_type": "code",
   "execution_count": 14,
   "id": "663bddde",
   "metadata": {},
   "outputs": [],
   "source": [
    "# Export Customer loyalty bar chart\n",
    "\n",
    "bar_2.figure.savefig(os.path.join(path, '04 Analysis', 'Visualizations', 'bar_loyalty_flag2.png'))"
   ]
  },
  {
   "cell_type": "code",
   "execution_count": null,
   "id": "b84d5133",
   "metadata": {},
   "outputs": [],
   "source": []
  },
  {
   "cell_type": "code",
   "execution_count": null,
   "id": "e407bddd",
   "metadata": {},
   "outputs": [],
   "source": [
    "# Check whether there’s a difference in expenditure (the “prices” column) depending on the hour of the day. \n",
    "# (Hint: To check this, you need to use an accurate sample for your line chart!)\n",
    "\n",
    "df_small_2 = small[['order_hour_of_day','prices']]"
   ]
  },
  {
   "cell_type": "code",
   "execution_count": null,
   "id": "790a4083",
   "metadata": {},
   "outputs": [],
   "source": [
    "df_small_2"
   ]
  },
  {
   "cell_type": "code",
   "execution_count": null,
   "id": "4a157eb4",
   "metadata": {},
   "outputs": [],
   "source": [
    "# Create line chart on 30% of df sample\n",
    "\n",
    "line_2 = sns.lineplot(data = df_small_2, x = 'order_hour_of_day',y = 'prices')"
   ]
  },
  {
   "cell_type": "code",
   "execution_count": null,
   "id": "b66bc652",
   "metadata": {},
   "outputs": [],
   "source": [
    "# More spending is done in morning "
   ]
  },
  {
   "cell_type": "code",
   "execution_count": null,
   "id": "a54233e2",
   "metadata": {},
   "outputs": [],
   "source": [
    "# Determine whether there’s a connection between age and family situation \n",
    "# create a line chart exploring the connections \n",
    "# between age and number of dependents:\n",
    "# New data frame with columns needed for the line chart\n",
    "\n",
    "df_small_3 = small[['age','no_of_dependants']]"
   ]
  },
  {
   "cell_type": "code",
   "execution_count": null,
   "id": "ddd6d1cf",
   "metadata": {},
   "outputs": [],
   "source": [
    "df_small_3"
   ]
  },
  {
   "cell_type": "code",
   "execution_count": null,
   "id": "263c30f5",
   "metadata": {},
   "outputs": [],
   "source": [
    "line_3 = sns.lineplot(data = df_small_3, x = 'age',y = 'no_of_dependants')"
   ]
  },
  {
   "cell_type": "code",
   "execution_count": null,
   "id": "26de0865",
   "metadata": {},
   "outputs": [],
   "source": [
    "df_small_3['no_of_dependants'].describe()"
   ]
  },
  {
   "cell_type": "code",
   "execution_count": null,
   "id": "d701da3a",
   "metadata": {},
   "outputs": [],
   "source": [
    "# No clear trends between age and no. of dependants"
   ]
  },
  {
   "cell_type": "code",
   "execution_count": null,
   "id": "768f37aa",
   "metadata": {},
   "outputs": [],
   "source": [
    "# You’ll also need to explore whether there’s a connection between \n",
    "# age and spending power (income).\n",
    "\n",
    "splot_2 = sns.scatterplot(x = 'age', y = 'income', data = df_final_data)"
   ]
  },
  {
   "cell_type": "code",
   "execution_count": null,
   "id": "3d15fd6b",
   "metadata": {},
   "outputs": [],
   "source": [
    "# Scatterplot shows relationship between age and spending\n",
    "# power. \n",
    "# 1. Customers age 20-40 have income of ,< = 200k\n",
    "# 2. Age 40+ are earning more income > 200k\n",
    "# 3. 40+ age group has higer spending power\n"
   ]
  },
  {
   "cell_type": "markdown",
   "id": "005b2641",
   "metadata": {},
   "source": [
    "# Export visualizations "
   ]
  },
  {
   "cell_type": "code",
   "execution_count": null,
   "id": "b6fda4e3",
   "metadata": {},
   "outputs": [],
   "source": [
    "# Export bar object outside of Jupyter via figure.savefig() function\n",
    "# will be in Visualization folder \n",
    "\n",
    "bar.figure.savefig(os.path.join(path, '04 Analysis', 'Visualizations', 'bar_orders_dow.png'))"
   ]
  },
  {
   "cell_type": "code",
   "execution_count": null,
   "id": "0b8d9f45",
   "metadata": {},
   "outputs": [],
   "source": [
    "# Export hist object outside of Jupyter via figure.savefig() function\n",
    "# will be in Visualization folder \n",
    "\n",
    "hist.figure.savefig(os.path.join(path, '04 Analysis', 'Visualizations', 'hist_prices.png'))"
   ]
  },
  {
   "cell_type": "code",
   "execution_count": null,
   "id": "bd7b536d",
   "metadata": {},
   "outputs": [],
   "source": [
    "# Export splot object outside of Jupyter via figure.savefig() function\n",
    "# will be in Visualization folder \n",
    "\n",
    "splot.figure.savefig(os.path.join(path, '04 Analysis', 'Visualizations', 'splot_prices.png'))"
   ]
  },
  {
   "cell_type": "code",
   "execution_count": null,
   "id": "781d5678",
   "metadata": {},
   "outputs": [],
   "source": [
    "# Export line object outside of Jupyter via figure.savefig() function\n",
    "# will be in Visualization folder \n",
    "\n",
    "line.figure.savefig(os.path.join(path, '04 Analysis', 'Visualizations', 'line_order_dow_prices.png'))"
   ]
  },
  {
   "cell_type": "code",
   "execution_count": null,
   "id": "d9df531b",
   "metadata": {},
   "outputs": [],
   "source": [
    "# Export bar_2 = 'loyalty_flag'\n",
    "\n",
    "bar_2.figure.savefig(os.path.join(path, '04 Analysis', 'Visualizations', 'bar_loyalty_flag.png'))"
   ]
  },
  {
   "cell_type": "code",
   "execution_count": null,
   "id": "62bd78e5",
   "metadata": {},
   "outputs": [],
   "source": [
    "# Export hist_2 object outside of Jupyter via figure.savefig() function\n",
    "# will be in Visualization folder \n",
    "\n",
    "hist_2.figure.savefig(os.path.join(path, '04 Analysis', 'Visualizations', 'hist_2_order_hour_of_day.png'))"
   ]
  },
  {
   "cell_type": "code",
   "execution_count": null,
   "id": "9614ba85",
   "metadata": {},
   "outputs": [],
   "source": [
    "# Export Line_2 \n",
    "#line_2 = sns.lineplot(data = df_small2, x = 'order_hour_of_day',y = 'prices')\n",
    "\n",
    "line_2.figure.savefig(os.path.join(path, '04 Analysis', 'Visualizations', 'line_order_hour_of_day_prices.png'))"
   ]
  },
  {
   "cell_type": "code",
   "execution_count": null,
   "id": "f975f63c",
   "metadata": {},
   "outputs": [],
   "source": [
    "# Export splot_2 \n",
    "\n",
    "splot_2.figure.savefig(os.path.join(path, '04 Analysis', 'Visualizations', 'age_income.png'))"
   ]
  },
  {
   "cell_type": "code",
   "execution_count": null,
   "id": "984fa4f2",
   "metadata": {},
   "outputs": [],
   "source": []
  }
 ],
 "metadata": {
  "kernelspec": {
   "display_name": "Python 3 (ipykernel)",
   "language": "python",
   "name": "python3"
  },
  "language_info": {
   "codemirror_mode": {
    "name": "ipython",
    "version": 3
   },
   "file_extension": ".py",
   "mimetype": "text/x-python",
   "name": "python",
   "nbconvert_exporter": "python",
   "pygments_lexer": "ipython3",
   "version": "3.9.13"
  }
 },
 "nbformat": 4,
 "nbformat_minor": 5
}
